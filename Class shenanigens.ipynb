{
 "cells": [
  {
   "cell_type": "code",
   "execution_count": 1,
   "id": "5fc0b38f",
   "metadata": {},
   "outputs": [],
   "source": [
    "from classy import Class\n",
    "import numpy as np\n",
    "import matplotlib.pyplot as plt\n",
    "from math import sqrt\n",
    "import scipy.integrate as sc\n",
    "#plt.rcParams.update({   \"text.usetex\": True,})\n"
   ]
  },
  {
   "cell_type": "code",
   "execution_count": 2,
   "id": "893781d9",
   "metadata": {},
   "outputs": [
    {
     "data": {
      "text/plain": [
       "\"kvec = [1e-1, 1, 10]\\ncosmo = Class()\\ncosmo.set({'H0':70, 'Omega_b':0.05, 'Omega_cdm':0.25, 'k_output_values':str(kvec).strip('[]'), \\n           'output':'tCl, lCl, dTk, vTk, pCl', 'lensing':'yes',\\n          'N_ncdm':1, 'm_ncdm':10, 'gauge':'synchronous'})\\ncosmo.compute()\""
      ]
     },
     "execution_count": 2,
     "metadata": {},
     "output_type": "execute_result"
    }
   ],
   "source": [
    "\"\"\"kvec = [1e-1, 1, 10]\n",
    "cosmo = Class()\n",
    "cosmo.set({'H0':70, 'Omega_b':0.05, 'Omega_cdm':0.25, 'k_output_values':str(kvec).strip('[]'), \n",
    "           'output':'tCl, lCl, dTk, vTk, pCl', 'lensing':'yes',\n",
    "          'N_ncdm':1, 'm_ncdm':10, 'gauge':'synchronous'})\n",
    "cosmo.compute()\"\"\""
   ]
  },
  {
   "cell_type": "code",
   "execution_count": 3,
   "id": "dd50f221",
   "metadata": {
    "scrolled": true
   },
   "outputs": [
    {
     "data": {
      "text/plain": [
       "\"bg = cosmo.get_background()\\nprint(bg.keys())\\na = 1/(1 + bg['z'])\\ntau = bg['conf. time [Mpc]']\\nplt.loglog(a, tau)\\na_eq = cosmo.get_current_derived_parameters(['a_eq'])['a_eq']\\nplt.axvline(a_eq)\\nprint(np.interp(a_eq, a, tau))\\n\\nplt.figure()\\nplt.loglog(a, bg['gr.fac. D'])\\n\""
      ]
     },
     "execution_count": 3,
     "metadata": {},
     "output_type": "execute_result"
    }
   ],
   "source": [
    "\"\"\"bg = cosmo.get_background()\n",
    "print(bg.keys())\n",
    "a = 1/(1 + bg['z'])\n",
    "tau = bg['conf. time [Mpc]']\n",
    "plt.loglog(a, tau)\n",
    "a_eq = cosmo.get_current_derived_parameters(['a_eq'])['a_eq']\n",
    "plt.axvline(a_eq)\n",
    "print(np.interp(a_eq, a, tau))\n",
    "\n",
    "plt.figure()\n",
    "plt.loglog(a, bg['gr.fac. D'])\n",
    "\"\"\""
   ]
  },
  {
   "cell_type": "code",
   "execution_count": 4,
   "id": "cb72f313",
   "metadata": {},
   "outputs": [
    {
     "data": {
      "text/plain": [
       "\"pts = cosmo.get_perturbations()['scalar']\\nindex_k = 1\\npts0 = pts[index_k]\\npts0['a']\\nprint(pts0.keys())\\nfor species in ['ur', 'cdm', 'b', 'ncdm[0]', 'g']:\\n    delta = pts0['delta_' + species]\\n    plt.loglog(pts0['tau [Mpc]'], -delta, label=species)\\nplt.legend()\\nplt.title(f'k = {kvec[index_k]} 1/Mpc')\\n\""
      ]
     },
     "execution_count": 4,
     "metadata": {},
     "output_type": "execute_result"
    }
   ],
   "source": [
    "\"\"\"pts = cosmo.get_perturbations()['scalar']\n",
    "index_k = 1\n",
    "pts0 = pts[index_k]\n",
    "pts0['a']\n",
    "print(pts0.keys())\n",
    "for species in ['ur', 'cdm', 'b', 'ncdm[0]', 'g']:\n",
    "    delta = pts0['delta_' + species]\n",
    "    plt.loglog(pts0['tau [Mpc]'], -delta, label=species)\n",
    "plt.legend()\n",
    "plt.title(f'k = {kvec[index_k]} 1/Mpc')\n",
    "\"\"\""
   ]
  },
  {
   "cell_type": "code",
   "execution_count": 5,
   "id": "bb88d802",
   "metadata": {},
   "outputs": [],
   "source": [
    "# all output er i newtonian gauge af historiske årsager du kan overveje at udkommetnere gaugetransformation i koden senere."
   ]
  },
  {
   "cell_type": "markdown",
   "id": "e0e60209",
   "metadata": {},
   "source": [
    "Så det er rent kaos herfra"
   ]
  },
  {
   "cell_type": "markdown",
   "id": "1e9a9d76",
   "metadata": {},
   "source": [
    "$\\ddot{D} +a H\\dot{D} = \\frac{3}{2} H^2 \\Omega_m a^2 D$"
   ]
  },
  {
   "cell_type": "markdown",
   "id": "577ca260",
   "metadata": {},
   "source": [
    "Forkert\n",
    "Lad værd med at kigge\n",
    "jeg skal lige rette det her til det rigtige\n",
    "$\\frac{d\\delta}{dt} = -\\frac{\\theta}{a}\\quad a d\\tau = dt\\\\\n",
    "\t\\frac{d\\delta}{ad\\tau} = -\\frac{\\theta}{a}\\quad\n",
    "\t\\frac{d\\delta}{d\\tau} = -\\theta\\\\\n",
    "\t\\frac{d\\theta}{dt}+H\\theta=-1/a \\nabla^2 \\psi\\quad H= \\frac{da}{adt}=\\frac{da}{a^2dt} = \\frac{1}{a}H\n",
    "\t\\\\\n",
    "\t \\frac{d\\theta}{ad\\tau}+\\frac{1}{a}H\\theta=-1/a \\nabla^2 \\psi \\quad  \\frac{d\\theta}{d\\tau} + H\\theta=- \\nabla^2 \\psi\\\\\n",
    "\t\\frac{d^2 \\delta}{d^2\\tau} + H \\frac{d\\delta}{d\\tau} = \\nabla^2 \\psi = \\frac{3}{2} H^2 \\Omega a^2 \\delta\\quad \\delta(\\tau,x) = D(\\tau) \\hat{\\delta}(x)\\\\\n",
    "\t\\ddot{D} + H\\dot{D} = \\frac{3}{2} H^2 \\Omega a^2 D$\n",
    "    Men det sidste er rigtigt\n",
    "    $\n",
    "    \\ddot{D} + a H \\dot{D} = \\frac{3}{2} H_0 ^2 \\frac{\\Omega_0}{a} D$"
   ]
  },
  {
   "cell_type": "code",
   "execution_count": 6,
   "id": "7a75c49d",
   "metadata": {},
   "outputs": [],
   "source": [
    "kvec = [1e-1,1,1e1]\n",
    "cosmo = Class()\n",
    "cosmo.set({'H0':70, 'Omega_b':0.05, 'Omega_cdm':0.25, 'k_output_values':str(kvec).strip('[]'), \n",
    "           'output':'tCl, lCl, dTk, vTk, pCl', 'lensing':'yes',})\n",
    "cosmo.compute()\n",
    "bg = cosmo.get_background()"
   ]
  },
  {
   "cell_type": "code",
   "execution_count": 7,
   "id": "4b5984fc",
   "metadata": {},
   "outputs": [
    {
     "name": "stdout",
     "output_type": "stream",
     "text": [
      "dict_keys(['z', 'proper time [Gyr]', 'conf. time [Mpc]', 'H [1/Mpc]', 'comov. dist.', 'ang.diam.dist.', 'lum. dist.', 'comov.snd.hrz.', '(.)rho_g', '(.)rho_b', '(.)rho_cdm', '(.)rho_lambda', '(.)rho_ur', '(.)rho_crit', '(.)rho_tot', '(.)p_tot', '(.)p_tot_prime', 'gr.fac. D', 'gr.fac. f'])\n"
     ]
    }
   ],
   "source": [
    "print(bg.keys())"
   ]
  },
  {
   "cell_type": "code",
   "execution_count": 8,
   "id": "3f35d10c",
   "metadata": {},
   "outputs": [
    {
     "data": {
      "text/plain": [
       "<Figure size 640x480 with 0 Axes>"
      ]
     },
     "execution_count": 8,
     "metadata": {},
     "output_type": "execute_result"
    },
    {
     "data": {
      "image/png": "[encoded data removed]",
      "text/plain": [
       "<Figure size 640x480 with 1 Axes>"
      ]
     },
     "metadata": {},
     "output_type": "display_data"
    },
    {
     "data": {
      "text/plain": [
       "<Figure size 640x480 with 0 Axes>"
      ]
     },
     "metadata": {},
     "output_type": "display_data"
    }
   ],
   "source": [
    "\n",
    "aend = 1\n",
    "a_class = 1/(1+ bg[\"z\"])\n",
    "a0 = a_class[0]\n",
    "\n",
    "Omega_M = 0.3\n",
    "Omega_R = 7e-5\n",
    "Omega_lambda = 1 - Omega_M - Omega_R\n",
    "H0 = 70 / (3*1e5) # i 1/Mpc\n",
    "\n",
    "def H(a):\n",
    "    return H0 * np.sqrt(Omega_lambda + Omega_M /( a **3) + Omega_R /( a**4)) \n",
    "\n",
    "def f(a,y):\n",
    "    #a = t\n",
    "    tau = y[0]\n",
    "    d_tau = 1 / (a ** 2 * H(a))\n",
    "    return np.array(d_tau)\n",
    "\n",
    "tau0 = (1/H0) * (Omega_R ** (-0.5)) * a0\n",
    "sol1 = sc.solve_ivp(f,t_span=[a0,aend],y0=[tau0])\n",
    "\n",
    "tau =sol1.y[0]\n",
    "C = 1\n",
    "k = 1\n",
    "cs = 0\n",
    "R_nu = 0\n",
    "\n",
    "psi = 20 * C / (15 + 4 * R_nu)\n",
    "theta_nu_0 =  0.5 * (k*k*tau[0]) * psi\n",
    "theta_cb_0 = theta_nu_0 \n",
    "delta_gamma = -2 * psi \n",
    "delta_nu_0 =delta_gamma\n",
    "delta_cb_0 = 4/3 * delta_gamma\n",
    "phi = psi * (1 + R_nu)\n",
    "\n",
    "\n",
    "def f1(t,y):\n",
    "    # kun cdm så cs = 0\n",
    "    # her er t = tau\n",
    "    a = y[0]\n",
    "    D = y[1]\n",
    "    D_dt = y[2]\n",
    "    delta_cb = y[3]\n",
    "    theta_cb = y[4]\n",
    "    delta_nu = y[4]\n",
    "    theta_nu = y[6]\n",
    "    #print(t)\n",
    "    a_dt = a * a * H(a)\n",
    "        \n",
    "    Omega_M_reel = Omega_M / ( a**3 * Omega_lambda + Omega_M + Omega_R / a)\n",
    "    \n",
    "    nabla2phi = ( 3 / 2 ) * H0 * H0 * Omega_M * (delta_cb+ delta_nu) / a # \n",
    "    \n",
    "    D2_dt2 = +  ((3 / 2) * H0 * H0 * Omega_M * D / a) - a * H(a) * D_dt \n",
    "    \n",
    "    delta_cb_dt = - theta_cb\n",
    "    \n",
    "    theta_cb_dt = -  a * H(a) * theta_cb - nabla2phi \n",
    "    \n",
    "    delta_nu_dt = - theta_nu\n",
    "    \n",
    "    theta_nu_dt = -  a * H(a) * theta_nu - nabla2phi - k*k * (cs*cs ) * delta_nu\n",
    "    \n",
    "    return [a_dt,D_dt,D2_dt2,delta_cb_dt,theta_cb_dt,delta_nu_dt,theta_nu_dt]\n",
    "\n",
    "\n",
    "\n",
    "t_start = tau[0]\n",
    "t_end = tau[-1]\n",
    "a0= tau0*(H0) * (Omega_R ** (0.5))\n",
    "tau_span = np.array([t_start,t_end])\n",
    "\n",
    "D0 = 1e-14\n",
    "D1 = H0*np.sqrt(Omega_R)\n",
    "\n",
    "y0 = [H0*np.sqrt(Omega_R)*tau0, D0, D1 ,delta_cb_0,theta_cb_0,delta_nu_0,theta_nu_0]\n",
    "\n",
    "\n",
    "sol = sc.solve_ivp(f1,t_span=tau_span,y0 = y0)\n",
    "\n",
    "tau_end = bg['conf. time [Mpc]'][-1]\n",
    "\n",
    "tau = sol.t\n",
    "a = sol.y[0]\n",
    "D = sol.y[1]\n",
    "D_dt = sol.y[2]\n",
    "#print(D/D[-1])\n",
    "delta_cdm = sol.y[3]\n",
    "theta_cdm = sol.y[4]\n",
    "delta_nu = sol.y[5]\n",
    "theta_nu = sol.y[6]\n",
    "\n",
    "plt.loglog(a, D/D[-1], label='Growth_func')\n",
    "D_class = bg['gr.fac. D']\n",
    "plt.loglog(a_class, D_class, label='CLASS', ls='--')\n",
    "plt.loglog(a,delta_cdm/delta_cdm[-1],label=\"delta_cb\",ls=\":\",color=\"black\")\n",
    "plt.loglog(a,delta_nu/delta_nu[-1],label=\"delta_nu\",ls=\"-.\")\n",
    "plt.legend()\n",
    "plt.title(\"Delta and growth\")\n",
    "plt.figure(1231)\n",
    "#plt.loglog(a,theta_cdm)\n",
    "#print(bg.keys())\n",
    "#print(cosmo)"
   ]
  },
  {
   "cell_type": "code",
   "execution_count": 9,
   "id": "ba7a0707",
   "metadata": {},
   "outputs": [
    {
     "data": {
      "text/plain": [
       "[<matplotlib.lines.Line2D at 0x7fd39cbe6490>]"
      ]
     },
     "execution_count": 9,
     "metadata": {},
     "output_type": "execute_result"
    },
    {
     "data": {
      "image/png": "[encoded data removed]",
      "text/plain": [
       "<Figure size 640x480 with 1 Axes>"
      ]
     },
     "metadata": {},
     "output_type": "display_data"
    }
   ],
   "source": [
    "#print(-D_dt,len(D_dt))\n",
    "\n",
    "#print(D,len(D))\n",
    "#print(a,len(a))\n",
    "plt.loglog(a,D_dt/D)"
   ]
  },
  {
   "cell_type": "code",
   "execution_count": 10,
   "id": "393407ef",
   "metadata": {},
   "outputs": [
    {
     "name": "stdout",
     "output_type": "stream",
     "text": [
      "[1.00000000e-14 1.02215602e-14 1.22028828e-14 1.73236748e-14\n",
      " 2.30371648e-14 2.94565902e-14 3.65224065e-14 4.42798085e-14\n",
      " 5.27987930e-14 6.21780901e-14 7.25389632e-14 8.40180175e-14\n",
      " 9.67431330e-14 1.10753774e-13 1.25724757e-13 1.39868083e-13\n",
      " 1.46237263e-13 1.51352262e-13 1.62986117e-13 2.39174247e-13\n",
      " 4.20134066e-13 8.33182335e-13 1.73731384e-12 3.71094338e-12\n",
      " 8.00706024e-12 1.73547059e-11 3.76896894e-11 8.19208133e-11\n",
      " 1.78052352e-10 3.85345894e-10 7.99391906e-10 8.49303209e-10] 32\n"
     ]
    }
   ],
   "source": [
    "print(sol.y[1],len(sol.y[1]))\n"
   ]
  },
  {
   "cell_type": "code",
   "execution_count": 11,
   "id": "147b75af",
   "metadata": {},
   "outputs": [
    {
     "data": {
      "text/plain": [
       "'from classy import Class\\nimport numpy as np\\nimport matplotlib.pyplot as plt\\nfrom math import sqrt\\nimport scipy.integrate as sc\\n#plt.rcParams.update({   \"text.usetex\"\\ncosmo = Class()\\ncosmo.set({\\'H0\\':70, \\'Omega_b\\':0.05, \\'Omega_cdm\\':0.25})\\ncosmo.compute()\\nbg = cosmo.get_background()\\n\\nOmega_M = 0.3\\nH0 = 70./3e5 #Mpc^-1\\nOmega_R = 7e-5\\nOmega_lambda = Omega_M - Omega_R\\n\\n\\ntau0 =  bg[\\'conf. time [Mpc]\\'][0]\\ntau_end = bg[\\'conf. time [Mpc]\\'][-1]\\n\\nC = 0.31\\nk = 1\\ncs = 0.01\\nR_nu = 0\\n#print(H)\\na_class = 1/(1 + bg[\\'z\\'])\\na0 = a_class[0]\\naend = 1\\ndef f(a,y):\\n    #a = t\\n    tau = y[0]\\n    d_tau = 1 / (a ** 2 * H(a))\\n    return np.array(d_tau)\\n\\ntau0 = (1/H0) * (Omega_R ** (-0.5)) * a0\\n\\nsol1 = sc.solve_ivp(f,t_span=[a0,aend],y0=[tau0])#,t_eval=a2) \\n\\ntau =sol1.y[0]\\n\\npsi = 20 * C / (15 + 4 * R_nu)\\ntheta_nu_0 =  0.5 * (k*k*tau0) * psi\\ntheta_cb_0 = theta_nu_0 \\ndelta_gamma = -2 * psi \\ndelta_nu_0 = delta_gamma\\ndelta_cb_0 = 4/3 * delta_gamma\\nphi = psi * (1 + R_nu)\\n#,delta_nu_0,theta_nu_0])\\n\\n\\ndef H(a):\\n    return H0 * np.sqrt(Omega_lambda + Omega_M /( a **3) + Omega_R /( a**4)) \\n\\n\\ndef f(t, y):\\n    a = y[0]\\n    D = y[1]\\n    D_dt = y[2]\\n    delta_cb = y[3]\\n    theta_cb = y[4]\\n    \\n    a_dt = a * a * H(a)\\n    \\n    nabla2phi = ( 3 / 2 ) * H0 * H0 * Omega_M * (delta_cb) / a\\n    \\n    D2_dt2 = +  ((3 / 2) * H0 * H0 * Omega_M * D / a) - a * H(a) * D_dt\\n    \\n    \\n    delta_cb_dt = - theta_cb\\n    \\n    theta_cb_dt = -  a * H(a) * theta_cb - nabla2phi \\n    \\n    return [a_dt,D_dt,D2_dt2,delta_cb_dt,theta_cb_dt]\\n\\n#    H = H0*np.sqrt(Omega_R/a**4 + Omega_M/a**3 + (1 - Omega_M))\\n    \\n    \\n#\\xa0\\xa0\\xa0\\xa0D2_dt2 = 1.5*H0*H0*Omega_M*D/a - a*H*D_dt\\n    \\n#\\xa0\\xa0\\xa0\\xa0return [a*a*H, D_dt, D2_dt2]\\n\\ny0 = [H0*np.sqrt(Omega_R)*tau0, 0, H0*np.sqrt(Omega_R),delta_cb_0,theta_cb_0]\\nsol = sc.solve_ivp(f, [tau0, tau_end], y0)\\nplt.loglog(sol.y[0], sol.y[1]/sol.y[1][-1], label=\\'min kode\\')\\na = 1/(1 + bg[\\'z\\'])\\nD = bg[\\'gr.fac. D\\']\\nplt.loglog(a, D, label=\\'CLASS\\', ls=\\'--\\')\\nplt.legend()'"
      ]
     },
     "execution_count": 11,
     "metadata": {},
     "output_type": "execute_result"
    }
   ],
   "source": [
    "\"\"\"from classy import Class\n",
    "import numpy as np\n",
    "import matplotlib.pyplot as plt\n",
    "from math import sqrt\n",
    "import scipy.integrate as sc\n",
    "#plt.rcParams.update({   \"text.usetex\"\n",
    "cosmo = Class()\n",
    "cosmo.set({'H0':70, 'Omega_b':0.05, 'Omega_cdm':0.25})\n",
    "cosmo.compute()\n",
    "bg = cosmo.get_background()\n",
    "\n",
    "Omega_M = 0.3\n",
    "H0 = 70./3e5 #Mpc^-1\n",
    "Omega_R = 7e-5\n",
    "Omega_lambda = Omega_M - Omega_R\n",
    "\n",
    "\n",
    "tau0 =  bg['conf. time [Mpc]'][0]\n",
    "tau_end = bg['conf. time [Mpc]'][-1]\n",
    "\n",
    "C = 0.31\n",
    "k = 1\n",
    "cs = 0.01\n",
    "R_nu = 0\n",
    "#print(H)\n",
    "a_class = 1/(1 + bg['z'])\n",
    "a0 = a_class[0]\n",
    "aend = 1\n",
    "def f(a,y):\n",
    "    #a = t\n",
    "    tau = y[0]\n",
    "    d_tau = 1 / (a ** 2 * H(a))\n",
    "    return np.array(d_tau)\n",
    "\n",
    "tau0 = (1/H0) * (Omega_R ** (-0.5)) * a0\n",
    "\n",
    "sol1 = sc.solve_ivp(f,t_span=[a0,aend],y0=[tau0])#,t_eval=a2) \n",
    "\n",
    "tau =sol1.y[0]\n",
    "\n",
    "psi = 20 * C / (15 + 4 * R_nu)\n",
    "theta_nu_0 =  0.5 * (k*k*tau0) * psi\n",
    "theta_cb_0 = theta_nu_0 \n",
    "delta_gamma = -2 * psi \n",
    "delta_nu_0 = delta_gamma\n",
    "delta_cb_0 = 4/3 * delta_gamma\n",
    "phi = psi * (1 + R_nu)\n",
    "#,delta_nu_0,theta_nu_0])\n",
    "\n",
    "\n",
    "def H(a):\n",
    "    return H0 * np.sqrt(Omega_lambda + Omega_M /( a **3) + Omega_R /( a**4)) \n",
    "\n",
    "\n",
    "def f(t, y):\n",
    "    a = y[0]\n",
    "    D = y[1]\n",
    "    D_dt = y[2]\n",
    "    delta_cb = y[3]\n",
    "    theta_cb = y[4]\n",
    "    \n",
    "    a_dt = a * a * H(a)\n",
    "    \n",
    "    nabla2phi = ( 3 / 2 ) * H0 * H0 * Omega_M * (delta_cb) / a\n",
    "    \n",
    "    D2_dt2 = +  ((3 / 2) * H0 * H0 * Omega_M * D / a) - a * H(a) * D_dt\n",
    "    \n",
    "    \n",
    "    delta_cb_dt = - theta_cb\n",
    "    \n",
    "    theta_cb_dt = -  a * H(a) * theta_cb - nabla2phi \n",
    "    \n",
    "    return [a_dt,D_dt,D2_dt2,delta_cb_dt,theta_cb_dt]\n",
    "\n",
    "#    H = H0*np.sqrt(Omega_R/a**4 + Omega_M/a**3 + (1 - Omega_M))\n",
    "    \n",
    "    \n",
    "#    D2_dt2 = 1.5*H0*H0*Omega_M*D/a - a*H*D_dt\n",
    "    \n",
    "#    return [a*a*H, D_dt, D2_dt2]\n",
    "\n",
    "y0 = [H0*np.sqrt(Omega_R)*tau0, 0, H0*np.sqrt(Omega_R),delta_cb_0,theta_cb_0]\n",
    "sol = sc.solve_ivp(f, [tau0, tau_end], y0)\n",
    "plt.loglog(sol.y[0], sol.y[1]/sol.y[1][-1], label='min kode')\n",
    "a = 1/(1 + bg['z'])\n",
    "D = bg['gr.fac. D']\n",
    "plt.loglog(a, D, label='CLASS', ls='--')\n",
    "plt.legend()\"\"\""
   ]
  },
  {
   "cell_type": "code",
   "execution_count": 12,
   "id": "542eda58",
   "metadata": {},
   "outputs": [
    {
     "name": "stdout",
     "output_type": "stream",
     "text": [
      "{'scalar': [{'tau [Mpc]': array([7.00928903e-01, 7.00929033e-01, 7.00929164e-01, ...,\n",
      "       1.31808727e+04, 1.37374591e+04, 1.38941264e+04]), 'a': array([1.51409221e-06, 1.51409250e-06, 1.51409278e-06, ...,\n",
      "       8.52136059e-01, 9.64422762e-01, 1.00000000e+00]), 'delta_g': array([-1.20436025, -1.20436026, -1.20436026, ..., -0.16960011,\n",
      "       -0.16077165, -0.15799903]), 'theta_g': array([ 2.10381322e-03,  2.10381361e-03,  2.10381400e-03, ...,\n",
      "       -1.79412551e-07, -1.53949487e-07, -1.47223611e-07]), 'shear_g': array([3.46088550e-09, 3.46088744e-09, 3.46088938e-09, ...,\n",
      "       0.00000000e+00, 0.00000000e+00, 0.00000000e+00]), 'pol0_g': array([8.65221376e-09, 8.65221860e-09, 8.65222344e-09, ...,\n",
      "       0.00000000e+00, 0.00000000e+00, 0.00000000e+00]), 'pol1_g': array([8.00655331e-16, 8.00656078e-16, 8.00656825e-16, ...,\n",
      "       0.00000000e+00, 0.00000000e+00, 0.00000000e+00]), 'pol2_g': array([1.73044275e-09, 1.73044372e-09, 1.73044469e-09, ...,\n",
      "       0.00000000e+00, 0.00000000e+00, 0.00000000e+00]), 'delta_b': array([-9.03270191e-01, -9.03270192e-01, -9.03270192e-01, ...,\n",
      "       -1.46223722e+04, -1.57008071e+04, -1.60026935e+04]), 'theta_b': array([0.00210381, 0.00210381, 0.00210381, ..., 1.94095386, 1.93048749,\n",
      "       1.92295987]), 'psi': array([0.6011564 , 0.6011564 , 0.6011564 , ..., 0.04226759, 0.04009008,\n",
      "       0.03940448]), 'phi': array([0.69915599, 0.69915599, 0.69915599, ..., 0.04226759, 0.04009008,\n",
      "       0.03940448]), 'delta_ur': array([-1.20436025, -1.20436026, -1.20436026, ..., -0.16907036,\n",
      "       -0.1603603 , -0.15761793]), 'theta_ur': array([ 2.10335221e-03,  2.10335260e-03,  2.10335300e-03, ...,\n",
      "       -7.77680831e-09, -6.04101547e-09, -5.59803759e-09]), 'shear_ur': array([0.00019684, 0.00019684, 0.00019684, ..., 0.        , 0.        ,\n",
      "       0.        ]), 'delta_cdm': array([-9.03270191e-01, -9.03270192e-01, -9.03270192e-01, ...,\n",
      "       -1.46926176e+04, -1.57711665e+04, -1.60730825e+04]), 'theta_cdm': array([0.00210477, 0.00210477, 0.00210477, ..., 1.94117081, 1.9306801 ,\n",
      "       1.92314584])}, {'tau [Mpc]': array([7.00093008e-02, 7.00093139e-02, 7.00093270e-02, ...,\n",
      "       1.26606455e+04, 1.32772680e+04, 1.38941264e+04]), 'a': array([1.51048046e-07, 1.51048074e-07, 1.51048103e-07, ...,\n",
      "       7.62962451e-01, 8.70188866e-01, 1.00000000e+00]), 'delta_g': array([-1.20337684, -1.20337685, -1.20337685, ..., -0.0053229 ,\n",
      "       -0.00507129, -0.00476426]), 'theta_g': array([ 2.10209811e-02,  2.10209850e-02,  2.10209889e-02, ...,\n",
      "       -6.22478868e-09, -5.27130339e-09, -4.44000303e-09]), 'shear_g': array([3.44169843e-10, 3.44170036e-10, 3.44170229e-10, ...,\n",
      "       0.00000000e+00, 0.00000000e+00, 0.00000000e+00]), 'pol0_g': array([8.60424608e-10, 8.60425090e-10, 8.60425573e-10, ...,\n",
      "       0.00000000e+00, 0.00000000e+00, 0.00000000e+00]), 'pol1_g': array([7.92422419e-18, 7.92423159e-18, 7.92423899e-18, ...,\n",
      "       0.00000000e+00, 0.00000000e+00, 0.00000000e+00]), 'pol2_g': array([1.72084922e-10, 1.72085018e-10, 1.72085115e-10, ...,\n",
      "       0.00000000e+00, 0.00000000e+00, 0.00000000e+00]), 'delta_b': array([-9.02532634e-01, -9.02532634e-01, -9.02532635e-01, ...,\n",
      "       -4.10301633e+04, -4.46329336e+04, -4.82308277e+04]), 'theta_b': array([0.02102098, 0.02102098, 0.02102099, ..., 5.82130089, 5.85206237,\n",
      "       5.79817433]), 'psi': array([0.60114448, 0.60114448, 0.60114448, ..., 0.00132577, 0.00126399,\n",
      "       0.00118819]), 'phi': array([0.69940131, 0.69940131, 0.69940131, ..., 0.00132577, 0.00126399,\n",
      "       0.00118819]), 'delta_ur': array([-1.20337684, -1.20337685, -1.20337685, ..., -0.00530308,\n",
      "       -0.00505597, -0.00475277]), 'theta_ur': array([ 2.10163962e-02,  2.10164002e-02,  2.10164041e-02, ...,\n",
      "       -2.92449620e-10, -2.26053842e-10, -1.69735337e-10]), 'shear_ur': array([0.00019642, 0.00019642, 0.00019642, ..., 0.        , 0.        ,\n",
      "       0.        ]), 'delta_cdm': array([-9.02532634e-01, -9.02532634e-01, -9.02532635e-01, ...,\n",
      "       -4.12689610e+04, -4.48722074e+04, -4.84705219e+04]), 'theta_cdm': array([0.02103051, 0.02103051, 0.02103052, ..., 5.82212039, 5.8527884 ,\n",
      "       5.79881166])}, {'tau [Mpc]': array([7.00009418e-03, 7.00009549e-03, 7.00009679e-03, ...,\n",
      "       1.29506572e+04, 1.34277783e+04, 1.38941264e+04]), 'a': array([1.51011976e-08, 1.51012004e-08, 1.51012032e-08, ...,\n",
      "       8.11055669e-01, 8.99474357e-01, 1.00000000e+00]), 'delta_g': array([-1.20327886e+00, -1.20327886e+00, -1.20327886e+00, ...,\n",
      "       -9.32765562e-05, -8.95312991e-05, -8.52801403e-05]), 'theta_g': array([ 2.10192723e-01,  2.10192762e-01,  2.10192801e-01, ...,\n",
      "       -1.03998588e-10, -9.13864540e-11, -8.01847477e-11]), 'shear_g': array([3.43978643e-11, 3.43978836e-11, 3.43979029e-11, ...,\n",
      "       0.00000000e+00, 0.00000000e+00, 0.00000000e+00]), 'pol0_g': array([8.59946608e-11, 8.59947090e-11, 8.59947572e-11, ...,\n",
      "       0.00000000e+00, 0.00000000e+00, 0.00000000e+00]), 'pol1_g': array([7.91603991e-20, 7.91604731e-20, 7.91605471e-20, ...,\n",
      "       0.00000000e+00, 0.00000000e+00, 0.00000000e+00]), 'pol2_g': array([1.71989322e-11, 1.71989418e-11, 1.71989514e-11, ...,\n",
      "       0.00000000e+00, 0.00000000e+00, 0.00000000e+00]), 'delta_b': array([-9.02459147e-01, -9.02459148e-01, -9.02459149e-01, ...,\n",
      "       -7.64382358e+04, -8.14319173e+04, -8.62936364e+04]), 'theta_b': array([ 0.21019272,  0.21019276,  0.2101928 , ..., 10.45697938,\n",
      "       10.46096839, 10.37306871]), 'psi': array([6.01143181e-01, 6.01143181e-01, 6.01143181e-01, ...,\n",
      "       2.32403762e-05, 2.23187613e-05, 2.12686398e-05]), 'phi': array([6.99425757e-01, 6.99425757e-01, 6.99425757e-01, ...,\n",
      "       2.32403762e-05, 2.23187613e-05, 2.12686398e-05]), 'delta_ur': array([-1.20327886e+00, -1.20327886e+00, -1.20327886e+00, ...,\n",
      "       -9.29615050e-05, -8.92750451e-05, -8.50745591e-05]), 'theta_ur': array([ 2.10146899e-01,  2.10146939e-01,  2.10146978e-01, ...,\n",
      "       -5.65769653e-12, -4.66293670e-12, -3.79429821e-12]), 'shear_ur': array([0.00019638, 0.00019638, 0.00019638, ..., 0.        , 0.        ,\n",
      "       0.        ]), 'delta_cdm': array([-9.02459147e-01, -9.02459148e-01, -9.02459149e-01, ...,\n",
      "       -7.69074610e+04, -8.19048991e+04, -8.67701171e+04]), 'theta_cdm': array([ 0.210288  ,  0.21028804,  0.21028808, ..., 10.46501985,\n",
      "       10.4686643 , 10.38036851])}]}\n"
     ]
    }
   ],
   "source": [
    "pts = cosmo.get_perturbations()\n",
    "print(pts)"
   ]
  }
 ],
 "metadata": {
  "kernelspec": {
   "display_name": "Python 3 (ipykernel)",
   "language": "python",
   "name": "python3"
  },
  "language_info": {
   "codemirror_mode": {
    "name": "ipython",
    "version": 3
   },
   "file_extension": ".py",
   "mimetype": "text/x-python",
   "name": "python",
   "nbconvert_exporter": "python",
   "pygments_lexer": "ipython3",
   "version": "3.8.10"
  }
 },
 "nbformat": 4,
 "nbformat_minor": 5
}
