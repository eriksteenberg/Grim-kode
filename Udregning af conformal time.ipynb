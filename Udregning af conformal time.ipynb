{
 "cells": [
  {
   "cell_type": "code",
   "execution_count": 1,
   "metadata": {},
   "outputs": [],
   "source": [
    "import numpy as np\n",
    "import matplotlib.pyplot as plt\n",
    "from math import sqrt\n",
    "import scipy.integrate as sc\n",
    "plt.rcParams.update({\n",
    "    \"text.usetex\": True,\n",
    "    #\"font.family\": \"Helvetica\"\n",
    "})"
   ]
  },
  {
   "cell_type": "markdown",
   "metadata": {},
   "source": [
    "Vi skal udregne $\\frac{d\\tau}{da}= \\frac{1}{a^2H(a)}$\n",
    "$H_0 = 70 km/sMpc / (3\\cdot 10^5 km/s)$\n",
    "$a_0 = 10^{-14}$ til $a=1$\n"
   ]
  },
  {
   "cell_type": "markdown",
   "metadata": {},
   "source": []
  },
  {
   "cell_type": "code",
   "execution_count": 27,
   "metadata": {
    "scrolled": true
   },
   "outputs": [
    {
     "name": "stdout",
     "output_type": "stream",
     "text": [
      "tau[-1]=14803.94019630656\n",
      "1000\n"
     ]
    }
   ],
   "source": [
    "H0 = 70 / (3 * 1e5) # i 1/Mpc\n",
    "\n",
    "a0 = 1e-15 \n",
    "aend = 1 \n",
    "steps = 1_000\n",
    "Omega_lambda = 0.74 - 2 * 1e-5\n",
    "Omega_M = 0.26- 2 * 1e-5\n",
    "Omega_R = 4 * 1e-5\n",
    "a = np.linspace(a0,aend,steps)\n",
    "\n",
    "# udregning af Friedmanligningen\n",
    "def H(a):\n",
    "    return H0 * np.sqrt(Omega_lambda + Omega_M /( a **3) + Omega_R /( a**4)) # a**3 *\n",
    "\n",
    "def f(a,y):\n",
    "    #a = t\n",
    "    tau = y[0]\n",
    "    d_tau = 1 / (a ** 2 * H(a))\n",
    "    return np.array(d_tau)\n",
    "\n",
    "tau0 = 1/H0 * Omega_R ** (-0.5) * a0\n",
    "sol1 = sc.solve_ivp(f,t_span=[a0,aend],y0=[tau0],t_eval=a) \n",
    "\n",
    "tau =sol1.y[0]\n",
    "print(f\"{tau[-1]=}\")\n",
    "\n",
    "print(len(tau))"
   ]
  },
  {
   "cell_type": "code",
   "execution_count": 28,
   "metadata": {},
   "outputs": [
    {
     "data": {
      "image/png": "[encoded data removed]",
      "text/plain": [
       "<Figure size 432x288 with 1 Axes>"
      ]
     },
     "metadata": {
      "needs_background": "light"
     },
     "output_type": "display_data"
    }
   ],
   "source": [
    "plt.plot(a,tau)\n",
    "plt.xlabel(r\"$a(\\tau)$\",rotation=0)\n",
    "plt.ylabel(r\"$\\tau$\",rotation=0)\n",
    "plt.show()"
   ]
  },
  {
   "cell_type": "code",
   "execution_count": 92,
   "metadata": {},
   "outputs": [
    {
     "data": {
      "text/plain": [
       "[<matplotlib.lines.Line2D at 0x2468b0501c0>]"
      ]
     },
     "execution_count": 92,
     "metadata": {},
     "output_type": "execute_result"
    },
    {
     "data": {
      "image/png": "[encoded data removed]",
      "text/plain": [
       "<Figure size 432x288 with 1 Axes>"
      ]
     },
     "metadata": {
      "needs_background": "light"
     },
     "output_type": "display_data"
    }
   ],
   "source": [
    "plt.plot(a,H(a))"
   ]
  },
  {
   "cell_type": "code",
   "execution_count": 29,
   "metadata": {},
   "outputs": [
    {
     "name": "stdout",
     "output_type": "stream",
     "text": [
      "1e-15\n",
      "success\n"
     ]
    }
   ],
   "source": [
    "# nu skal jeg bare have nogle start værdier\n",
    "\n",
    "H0 = 70 / (3*1e5) # i 1/Mpc\n",
    "cs = 1350 * 3 * 1e-20 # det bud. jeg tog den værdi de havde angivet i artiklen og oversatte den til Mpc\n",
    "\n",
    "C = 1e1 # dimensionsløs faktor til startværdierne fra B&M. \n",
    "\n",
    "k = 1e-5\n",
    "N_nu = 3\n",
    "R_nu = ((8/(7*N_nu))*(11/4)**(4/3) + 1 )**(-1)\n",
    "delta_gamma = -2 / 3 * C * (k * tau[0])**2\n",
    "delta_nu_0 = delta_gamma\n",
    "delta_cb_0 = 4 / 3 * delta_gamma # *2 # muligvis et spørgsmål her er om delta_cb = delta_c + delta_b\n",
    "theta_cb_0 = -1/18 * (k**4 * tau[0] ** 3)\n",
    "theta_nu_0 = (23+4*R_nu)/(6*(15+4*R_nu)) * C * (k*tau[0])**2\n",
    "\n",
    "\n",
    "y0 = np.array([a0,delta_cb_0,theta_cb_0,delta_nu_0,theta_nu_0])\n",
    "\n",
    "t_start = tau[0]\n",
    "t_end = tau[-1]\n",
    "t_span = np.array([t_start,t_end])\n",
    "\n",
    "def f(t,y): \n",
    "    # her er t tau\n",
    "    a = y[0]\n",
    "    if t == tau[0]:\n",
    "        assert(k/ H(a) <1)\n",
    "        print(a)\n",
    "        \n",
    "    delta_cb = y[1]\n",
    "    theta_cb = y[2]\n",
    "    delta_nu = y[3]\n",
    "    theta_nu = y[4]\n",
    "    \n",
    "    d_a_dtau = a**2 * H(a)\n",
    "    # poisson\n",
    "    \n",
    "    nabla2phi =(3/2) * H(a) ** 2  * Omega_M * a**2  *  (delta_nu + delta_cb)\n",
    "    \n",
    "    d_delta_cb_dtau = - theta_cb\n",
    "    \n",
    "    d_theta_cb_dtau = - a * H(a) * theta_cb -  nabla2phi\n",
    "    \n",
    "    d_delta_nu_dtau = - theta_nu\n",
    "    \n",
    "    d_theta_nu_dtau = - a * H(a) * theta_nu - nabla2phi - k*k * (cs*cs ) * delta_nu\n",
    "    \n",
    "    return [d_a_dtau,d_delta_cb_dtau,d_theta_cb_dtau,d_delta_nu_dtau,d_theta_nu_dtau]\n",
    "    \n",
    "\n",
    "sol2 = sc.solve_ivp(f,t_span,y0,t_eval = tau)\n",
    "\n",
    "a        = sol2.y[0]\n",
    "delta_cb = sol2.y[1]\n",
    "theta_cb = sol2.y[2]\n",
    "delta_ny = sol2.y[3]\n",
    "theta_ny = sol2.y[4]\n",
    "\n",
    "print(\"success\")\n"
   ]
  },
  {
   "cell_type": "code",
   "execution_count": 30,
   "metadata": {},
   "outputs": [
    {
     "name": "stdout",
     "output_type": "stream",
     "text": [
      "1000\n",
      "1000\n"
     ]
    },
    {
     "data": {
      "image/png": "[encoded data removed]",
      "text/plain": [
       "<Figure size 432x288 with 2 Axes>"
      ]
     },
     "metadata": {
      "needs_background": "light"
     },
     "output_type": "display_data"
    }
   ],
   "source": [
    "# N = 10000\n",
    "print(len(tau))\n",
    "print(len(delta_cb))\n",
    "fig, axes = plt.subplots(nrows=1, ncols=2)\n",
    "axes[0].plot(tau,delta_cb,label=r\"$\\delta_{cb}$\")\n",
    "axes[1].plot(tau,delta_ny,label=r\"$\\delta_{\\nu}$\")\n",
    "\n",
    "axes[0].set(xlabel=r\"$\\tau$\")\n",
    "axes[1].set(xlabel=r\"$\\tau$\")\n",
    "\n",
    "axes[0].legend(loc=\"upper right\")\n",
    "axes[1].legend(loc=\"upper right\")\n",
    "\n",
    "# Det er ikke overraskende at de er næsten identiske, da \n",
    "# k = 1e-8\n",
    "\n",
    "plt.show()"
   ]
  },
  {
   "cell_type": "code",
   "execution_count": 31,
   "metadata": {},
   "outputs": [
    {
     "data": {
      "image/png": "[encoded data removed]",
      "text/plain": [
       "<Figure size 432x288 with 1 Axes>"
      ]
     },
     "metadata": {
      "needs_background": "light"
     },
     "output_type": "display_data"
    }
   ],
   "source": [
    "n = 13\n",
    "\n",
    "fig, axes = plt.subplots(nrows=1, ncols=1)\n",
    "axes.plot(tau[:n],theta_cb[:n],label=r'$\\theta_{cb}$',color=\"red\")\n",
    "axes.plot(tau[:n],theta_ny[:n],label=r'$\\theta_{\\nu}$',color=\"green\")\n",
    "axes.set(xlabel=r'$\\tau$')\n",
    "plt.legend()\n",
    "\n",
    "plt.show()"
   ]
  },
  {
   "cell_type": "markdown",
   "metadata": {},
   "source": [
    "Note to self. Der er et problem med H(a) der hopper alt for aggressivt fra a0 til a1 uanset om a0 er 1e-14 eller 1e-5\n",
    "Det er umildbart også hvad der skaber det her shit."
   ]
  },
  {
   "cell_type": "markdown",
   "metadata": {},
   "source": [
    "$R_{\\nu}$ udregning\n",
    "$R_{\\nu} = \\frac{\\rho_{\\nu}}{\\rho_{\\gamma}+\\rho_{\\nu}} = \\left(\\frac{\\rho_{\\gamma}+\\rho_{\\nu}}{\\rho_{\\nu}}\\right)^{-1}=\\left(\\frac{\\rho_{\\gamma}}{\\rho_{\\nu}}+1\\right)^{-1}$\n",
    "Som relation mellem neutrinoer og fotoner har vi\n",
    "$\\rho_{\\nu}/\\rho_{\\gamma} = (7N_{\\nu}/8)(4/11)^{4/3}\\rightarrow\\rho_{\\gamma}/\\rho_{\\nu} = (8/7N_{\\nu})(11/4)^{4/3}$\n",
    "Det giver os\n",
    "$R_{\\nu} = \\left(\\frac{\\rho_{\\gamma}}{\\rho_{\\nu}}+1\\right)^{-1}=\\left((8/7N_{\\nu})(11/4)^{4/3}+1\\right)^{-1}$ hvor neutrino flavour antallet er sat til 3\n"
   ]
  },
  {
   "cell_type": "code",
   "execution_count": 88,
   "metadata": {
    "scrolled": false
   },
   "outputs": [
    {
     "name": "stdout",
     "output_type": "stream",
     "text": [
      "1e-10\n",
      "1e-09\n",
      "1e-08\n",
      "1e-07\n",
      "1e-06\n",
      "1e-05\n",
      "0.0001\n",
      "0.001\n",
      "0.01\n",
      "0.1\n",
      "1.0\n",
      "10.0\n",
      "100.0\n",
      "success\n"
     ]
    }
   ],
   "source": [
    "# nu skal jeg bare have nogle start værdier\n",
    "C = 1\n",
    "N_nu = 3\n",
    "R_nu = ( (8 / (7 * N_nu)) * (4/11) ** (-4 / 3) + 1 ) ** (-1)\n",
    "cs = 1e-20\n",
    "n=1\n",
    "k_list = np.array([10**(i/n) for i in range(-10*n,2*round(n)+1)])\n",
    "#k_list = np.linspace(1e-5,102.64,100)\n",
    "\n",
    "def f(t,y):    \n",
    "    a = y[0]\n",
    "    delta_cb = y[1]\n",
    "    theta_cb = y[2]\n",
    "    delta_nu = y[3]\n",
    "    theta_nu = y[4]\n",
    "    k = y[5]\n",
    "    if t == tau[0]:\n",
    "        #print(k/H(a))\n",
    "        assert(k/ H(a) <1), \"H(a) =%s, k = %s\"  %(H(a) ,k)\n",
    "    \n",
    "    d_a_dtau = a ** 2 * H(a)\n",
    "    nabla2phi =(3/2) * H(a) ** 2  * Omega_M * a ** 2  *  (delta_nu + delta_cb)\n",
    "    d_delta_cb_dtau = - theta_cb    \n",
    "    d_theta_cb_dtau = - a * H(a) * theta_cb -  nabla2phi    \n",
    "    d_delta_nu_dtau = - theta_nu\n",
    "    d_theta_nu_dtau = - a * H(a) * theta_nu - nabla2phi - k*k * (cs*cs ) * delta_nu     \n",
    "    return [d_a_dtau, d_delta_cb_dtau, d_theta_cb_dtau, d_delta_nu_dtau, d_theta_nu_dtau, 0]\n",
    "\n",
    "\n",
    "\n",
    "# k skal logaritmisk gå fra 1e-5 til 10\n",
    "\n",
    "# liste fra 1-e5 til 1\n",
    "#k_List = np.linspace(0.00001,0.2,1000)\n",
    "\n",
    "delta_nu_k = np.zeros(len(k_list))\n",
    "\n",
    "\n",
    "t_start = tau[0]\n",
    "t_end = tau[-1]\n",
    "t_span = np.array([t_start,t_end])\n",
    "i = 0\n",
    "\n",
    "for k in k_list:\n",
    "    \n",
    "    delta_gamma = -(2 / 3) * C * (k * tau[0])**2\n",
    "    delta_nu_0 = delta_gamma\n",
    "    delta_cb_0 = 4 / 3 * delta_gamma *2\n",
    "    \n",
    "    theta_cb_0 = -(1 / 18) * C * (k ** 4 * tau[0] ** 3)\n",
    "    #theta_cb_0 = 0.4 * 1e-6\n",
    "    #print(f\"{theta_cb_0=}\")\n",
    "    theta_nu_0 = (23 + 4 * R_nu) / (15 + 4 * R_nu) * theta_cb_0 # * C * (k * tau[0]) ** 2\n",
    "\n",
    "    y0 = np.array([a0, delta_cb_0, theta_cb_0, delta_nu_0, theta_nu_0, k])\n",
    "    #print(f\"{y0=}\")\n",
    "    sol2 = sc.solve_ivp(f,t_span,y0,t_eval = tau)\n",
    "    a        = sol2.y[0]\n",
    "    delta_cb = sol2.y[1]\n",
    "    theta_cb = sol2.y[2]\n",
    "    delta_nu = sol2.y[3]\n",
    "    theta_nu = sol2.y[4]\n",
    "    \n",
    "    delta_nu_k[i] = delta_nu[-1]\n",
    "    print(k)\n",
    "    #if i%n==0:\n",
    "    #print(f\"{delta_nu[0]=}\",f\"{delta_nu_k[i]=}\")\n",
    "    i += 1\n",
    "\n",
    "print(\"success\")\n",
    "\n",
    "\n",
    "#plt.show()"
   ]
  },
  {
   "cell_type": "code",
   "execution_count": 89,
   "metadata": {},
   "outputs": [
    {
     "data": {
      "text/plain": [
       "[<matplotlib.lines.Line2D at 0x2468f5e3f70>]"
      ]
     },
     "execution_count": 89,
     "metadata": {},
     "output_type": "execute_result"
    },
    {
     "data": {
      "image/png": "[encoded data removed]",
      "text/plain": [
       "<Figure size 432x288 with 1 Axes>"
      ]
     },
     "metadata": {
      "needs_background": "light"
     },
     "output_type": "display_data"
    },
    {
     "data": {
      "image/png": "[encoded data removed]",
      "text/plain": [
       "<Figure size 432x288 with 1 Axes>"
      ]
     },
     "metadata": {
      "needs_background": "light"
     },
     "output_type": "display_data"
    }
   ],
   "source": [
    "#print(k_list)\n",
    "\n",
    "plt.figure(4)\n",
    "plt.plot(k_list,delta_nu_k)\n",
    "plt.figure(6)\n",
    "plt.loglog(k_list,np.abs(delta_nu_k))"
   ]
  },
  {
   "cell_type": "code",
   "execution_count": 90,
   "metadata": {
    "scrolled": true
   },
   "outputs": [
    {
     "data": {
      "text/plain": [
       "Text(0.5, 1.0, 'power spectrum af neutrinoer alpha version loglog')"
      ]
     },
     "execution_count": 90,
     "metadata": {},
     "output_type": "execute_result"
    },
    {
     "data": {
      "image/png": "[encoded data removed]",
      "text/plain": [
       "<Figure size 432x288 with 1 Axes>"
      ]
     },
     "metadata": {
      "needs_background": "light"
     },
     "output_type": "display_data"
    },
    {
     "data": {
      "image/png": "[encoded data removed]",
      "text/plain": [
       "<Figure size 432x288 with 1 Axes>"
      ]
     },
     "metadata": {
      "needs_background": "light"
     },
     "output_type": "display_data"
    }
   ],
   "source": [
    "delta2 = np.power(np.abs(delta_nu_k),2)\n",
    "\n",
    "#for i in range(len(delta_nu_k)):\n",
    " #   print(k_list[i],delta_nu_k[i],delta2[i])\n",
    "    \n",
    "    \n",
    "plt.plot(k_list,delta2)#,s=0.5)\n",
    "plt.xlabel(\"k\")\n",
    "plt.ylabel(r'$|\\delta(k)^2|$',rotation=0)\n",
    "plt.title(\"power spectrum af neutrinoer alpha version\")\n",
    "\n",
    "plt.figure(19)\n",
    "plt.loglog(k_list,delta2)#,s=0.5)\n",
    "\n",
    "plt.xlabel(\"k\")\n",
    "plt.ylabel(r'$|\\delta(k)^2|$',rotation=0)\n",
    "plt.title(\"power spectrum af neutrinoer alpha version loglog\")\n"
   ]
  },
  {
   "cell_type": "code",
   "execution_count": 91,
   "metadata": {},
   "outputs": [
    {
     "data": {
      "image/png": "[encoded data removed]",
      "text/plain": [
       "<Figure size 432x288 with 1 Axes>"
      ]
     },
     "metadata": {
      "needs_background": "light"
     },
     "output_type": "display_data"
    },
    {
     "data": {
      "image/png": "[encoded data removed]",
      "text/plain": [
       "<Figure size 432x288 with 1 Axes>"
      ]
     },
     "metadata": {
      "needs_background": "light"
     },
     "output_type": "display_data"
    }
   ],
   "source": [
    "N = 700\n",
    "\n",
    "fig, axes = plt.subplots(nrows=1, ncols=1)\n",
    "axes.plot(tau[:N],delta_cb[:N],label=r'$\\delta_{cb}$',color=\"red\")\n",
    "axes.plot(tau[:N],delta_ny[:N],label=r'$\\delta_{\\nu}$',color=\"green\")\n",
    "axes.set(xlabel=r'$\\tau$')\n",
    "plt.legend()\n",
    "\n",
    "\n",
    "fig1, axes1 = plt.subplots(nrows=1, ncols=1)\n",
    "axes1.plot(tau[:N],theta_cb[:N],label=r'$\\theta_{cb}$',color=\"red\")\n",
    "axes1.plot(tau[:N],theta_ny[:N],label=r'$\\theta_{\\nu}$',color=\"green\")\n",
    "axes1.set(xlabel=r'$\\tau$')\n",
    "plt.legend()\n",
    "plt.show()"
   ]
  },
  {
   "cell_type": "markdown",
   "metadata": {},
   "source": [
    "Et forsøg på at normalisere a så vi undgår det der enorme spike for Friedman ligningen."
   ]
  },
  {
   "cell_type": "code",
   "execution_count": 13,
   "metadata": {},
   "outputs": [
    {
     "name": "stdout",
     "output_type": "stream",
     "text": [
      "tau=array([6.77630927e+00, 6.46595387e+01, 1.12290516e+02, ...,\n",
      "       1.48031359e+04, 1.48035646e+04, 1.48039932e+04])\n"
     ]
    }
   ],
   "source": [
    "### rigtig rigtig meget et work in progress\n",
    "\n",
    "H0 = 70 / (3 * 1e5) # i 1/Mpc\n",
    "num = 1e5 # numalisering\n",
    "a0 = 1 #1e-5 * num\n",
    "aend = 1e5 #* num\n",
    "steps = int(1e4)\n",
    "Omega_lambda = 0.74 - 2 * 1e-5\n",
    "Omega_M = 0.26- 2 * 1e-5\n",
    "Omega_R = 4 * 1e-5\n",
    "a = np.linspace(a0,aend,steps)\n",
    "\n",
    "# udregning af Friedmanligningen\n",
    "def H(a):\n",
    "    return H0 * np.sqrt(Omega_lambda + Omega_M / ( a **3 ) + Omega_R /( a ** 4)) #* a ** 3 \n",
    "\n",
    "def f(t,y):\n",
    "    a_current = t\n",
    "    tau = y[0]\n",
    "    d_tau = 1 / (a_current ** 2 * H(a_current))\n",
    "    return [d_tau]\n",
    "\n",
    "tau0 = 1 / H0 * Omega_R ** (-0.5) * a0 \n",
    "sol1 = sc.solve_ivp(f,t_span = [a0, aend],y0 = [tau0],t_eval = a)\n",
    "#tau =sol1.y[0]\n",
    "print(f\"{tau=}\")\n"
   ]
  },
  {
   "cell_type": "code",
   "execution_count": null,
   "metadata": {},
   "outputs": [],
   "source": []
  }
 ],
 "metadata": {
  "kernelspec": {
   "display_name": "Python 3",
   "language": "python",
   "name": "python3"
  },
  "language_info": {
   "codemirror_mode": {
    "name": "ipython",
    "version": 3
   },
   "file_extension": ".py",
   "mimetype": "text/x-python",
   "name": "python",
   "nbconvert_exporter": "python",
   "pygments_lexer": "ipython3",
   "version": "3.8.5"
  }
 },
 "nbformat": 4,
 "nbformat_minor": 4
}
