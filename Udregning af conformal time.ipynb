{
 "cells": [
  {
   "cell_type": "code",
   "execution_count": 1,
   "metadata": {},
   "outputs": [],
   "source": [
    "import numpy as np\n",
    "import matplotlib.pyplot as plt\n",
    "from math import sqrt\n",
    "import scipy.integrate as sc\n",
    "plt.rcParams.update({\n",
    "    \"text.usetex\": True,\n",
    "    #\"font.family\": \"Helvetica\"\n",
    "})"
   ]
  },
  {
   "cell_type": "markdown",
   "metadata": {},
   "source": [
    "Vi skal udregne $\\frac{d\\tau}{da}= \\frac{1}{a^2H(a)}$\n",
    "$H_0 = 70 km/sMpc / (3\\cdot 10^5 km/s)$\n",
    "$a_0 = 10^{-14}$ til $a=1$\n"
   ]
  },
  {
   "cell_type": "code",
   "execution_count": 247,
   "metadata": {
    "scrolled": true
   },
   "outputs": [
    {
     "name": "stdout",
     "output_type": "stream",
     "text": [
      "tau=array([6.77630927e+00, 6.46595387e+01, 1.12290516e+02, ...,\n",
      "       1.48031359e+04, 1.48035646e+04, 1.48039932e+04])\n"
     ]
    }
   ],
   "source": [
    "H0 = 70 / (3 * 1e5) # i 1/Mpc\n",
    "\n",
    "a0 = 1e-5 \n",
    "aend = 1 \n",
    "steps = 10_000\n",
    "Omega_lambda = 0.74 - 2 * 1e-5\n",
    "Omega_M = 0.26- 2 * 1e-5\n",
    "Omega_R = 4 * 1e-5\n",
    "a = np.linspace(a0,aend,steps)\n",
    "\n",
    "# udregning af Friedmanligningen\n",
    "def H(a):\n",
    "    return H0 * np.sqrt(Omega_lambda + Omega_M /( a **3) + Omega_R /( a**4)) # a**3 *\n",
    "\n",
    "def f(t,y):\n",
    "    a_current = t\n",
    "    tau = y[0]\n",
    "    d_tau = 1 / (a_current**2 * H(a_current))\n",
    "    return np.array(d_tau)\n",
    "\n",
    "tau0 = 1/H0 * Omega_R ** (-0.5) * a0\n",
    "sol1 = sc.solve_ivp(f,t_span=[a0,aend],y0=[tau0],t_eval=a)\n",
    "tau =sol1.y[0]\n",
    "print(f\"{tau=}\")\n",
    "\n"
   ]
  },
  {
   "cell_type": "code",
   "execution_count": 251,
   "metadata": {},
   "outputs": [
    {
     "name": "stdout",
     "output_type": "stream",
     "text": [
      "[1.0000e-05 2.0000e-05 3.0000e-05 ... 9.9997e-01 9.9998e-01 9.9999e-01]\n",
      "100000.0\n"
     ]
    },
    {
     "data": {
      "image/png": "[encoded data removed]",
      "text/plain": [
       "<Figure size 432x288 with 1 Axes>"
      ]
     },
     "metadata": {
      "needs_background": "light"
     },
     "output_type": "display_data"
    }
   ],
   "source": [
    "x = np.array([i for i in range(1,100000)]) *1e-5\n",
    "print(x)\n",
    "print(num)\n",
    "plt.plot(x,H(x))\n",
    "plt.show()"
   ]
  },
  {
   "cell_type": "code",
   "execution_count": 252,
   "metadata": {},
   "outputs": [
    {
     "data": {
      "image/png": "[encoded data removed]",
      "text/plain": [
       "<Figure size 432x288 with 1 Axes>"
      ]
     },
     "metadata": {
      "needs_background": "light"
     },
     "output_type": "display_data"
    }
   ],
   "source": [
    "plt.plot(a,tau)\n",
    "plt.xlabel(r\"$a(\\tau)$\",rotation=0)\n",
    "plt.ylabel(r\"$\\tau$\",rotation=0)\n",
    "plt.show()"
   ]
  },
  {
   "cell_type": "code",
   "execution_count": 255,
   "metadata": {},
   "outputs": [
    {
     "name": "stdout",
     "output_type": "stream",
     "text": [
      "1e-05\n",
      "success\n"
     ]
    }
   ],
   "source": [
    "# nu skal jeg bare have nogle start værdier\n",
    "\n",
    "H0 = 70 / (3*1e5) # i 1/Mpc\n",
    "cs = 135 * 3 * 1e-20\n",
    "\n",
    "C = 1e0\n",
    "\n",
    "k = 0.0001\n",
    "\n",
    "R_nu = ((8/(7*N_nu))*(11/4)**(4/3) + 1 )**(-1)\n",
    "delta_gamma = -2 / 3 * C * (k * tau[0])**2\n",
    "delta_nu_0 = delta_gamma\n",
    "delta_cb_0 = 4 / 3 * delta_gamma # *2 # muligvis spørgsmålet her er om delta_cb = delta_c + delta_b\n",
    "theta_cb_0 = -1/18 * (k**4 * tau[0] ** 3)\n",
    "theta_nu_0 = (23+4*R_nu)/(6*(15+4*R_nu)) * C * (k*tau[0])**2\n",
    "#while (theta_nu_0<1e-8):\n",
    "    #C *= 10\n",
    "    #theta_nu_0 = (23+4*R_nu)/(6*(15+4*R_nu)) * C * (k*tau[0])**2   \n",
    "#print(f\"{C=}\")\n",
    "\n",
    "y0 = np.array([a0,delta_cb_0,theta_cb_0,delta_ny_0,theta_ny_0])\n",
    "\n",
    "t_start = tau[0]\n",
    "t_end = tau[-1]\n",
    "t_span = np.array([t_start,t_end])\n",
    "\n",
    "def f(t,y):    \n",
    "    a = y[0]\n",
    "    if t == tau[0]:\n",
    "        assert(k/ H(a) <1)\n",
    "        print(a)\n",
    "        \n",
    "    delta_cb = y[1]\n",
    "    theta_cb = y[2]\n",
    "    delta_ny = y[3]\n",
    "    theta_ny = y[4]\n",
    "    \n",
    "    d_a_dtau = a**2 * H(a)\n",
    "    # poisson\n",
    "    nabla2phi =(3/2) * H(a) ** 2  * Omega_M * a**2  *  (delta_ny + delta_cb)\n",
    "    d_delta_cb_dtau = - theta_cb\n",
    "    \n",
    "    d_theta_cb_dtau = - a * H(a) * theta_cb -  nabla2phi\n",
    "    \n",
    "    d_delta_ny_dtau = - theta_ny\n",
    "    \n",
    "    d_theta_ny_dtau = - a * H(a) * theta_ny - nabla2phi - k*k * (cs*cs ) * delta_ny \n",
    "    \n",
    "    return [d_a_dtau,d_delta_cb_dtau,d_theta_cb_dtau,d_delta_ny_dtau,d_theta_ny_dtau]\n",
    "    \n",
    "\n",
    "sol2 = sc.solve_ivp(f,t_span,y0,t_eval = tau)\n",
    "\n",
    "a        = sol2.y[0]\n",
    "delta_cb = sol2.y[1]\n",
    "theta_cb = sol2.y[2]\n",
    "delta_ny = sol2.y[3]\n",
    "theta_ny = sol2.y[4]\n",
    "\n",
    "print(\"success\")\n"
   ]
  },
  {
   "cell_type": "code",
   "execution_count": 227,
   "metadata": {},
   "outputs": [
    {
     "name": "stdout",
     "output_type": "stream",
     "text": [
      "1.0\n"
     ]
    }
   ],
   "source": [
    "print(100000000000000000*1e-17)"
   ]
  },
  {
   "cell_type": "code",
   "execution_count": 256,
   "metadata": {},
   "outputs": [
    {
     "data": {
      "image/png": "[encoded data removed]",
      "text/plain": [
       "<Figure size 432x288 with 2 Axes>"
      ]
     },
     "metadata": {
      "needs_background": "light"
     },
     "output_type": "display_data"
    }
   ],
   "source": [
    "N = 10000\n",
    "fig, axes = plt.subplots(nrows=1, ncols=2)\n",
    "axes[0].plot(tau,delta_cb,label=r\"$\\delta_{cb}$\")\n",
    "axes[1].plot(tau,delta_ny,label=r\"$\\delta_{\\nu}$\")\n",
    "\n",
    "axes[0].set(xlabel=r\"$\\tau$\")\n",
    "axes[1].set(xlabel=r\"$\\tau$\")\n",
    "\n",
    "axes[0].legend(loc=\"upper right\")\n",
    "axes[1].legend(loc=\"upper right\")\n",
    "\n",
    "# Det er ikke overraskende at de er næsten identiske, da \n",
    "# k = 1e-8\n",
    "\n",
    "plt.show()"
   ]
  },
  {
   "cell_type": "code",
   "execution_count": 257,
   "metadata": {},
   "outputs": [
    {
     "data": {
      "image/png": "[encoded data removed]",
      "text/plain": [
       "<Figure size 432x288 with 1 Axes>"
      ]
     },
     "metadata": {
      "needs_background": "light"
     },
     "output_type": "display_data"
    }
   ],
   "source": [
    "n = 13\n",
    "\n",
    "fig, axes = plt.subplots(nrows=1, ncols=1)\n",
    "axes.plot(tau[:n],theta_cb[:n],label=r'$\\theta_{cb}$',color=\"red\")\n",
    "axes.plot(tau[:n],theta_ny[:n],label=r'$\\theta_{\\nu}$',color=\"green\")\n",
    "axes.set(xlabel=r'$\\tau$')\n",
    "plt.legend()\n",
    "\n",
    "plt.show()"
   ]
  },
  {
   "cell_type": "code",
   "execution_count": 261,
   "metadata": {},
   "outputs": [
    {
     "name": "stdout",
     "output_type": "stream",
     "text": [
      "[1.00000000e-05 1.10008123e-04 2.10087378e-04 3.09983648e-04\n",
      " 4.09918366e-04] 5\n"
     ]
    },
    {
     "data": {
      "image/png": "[encoded data removed]",
      "text/plain": [
       "<Figure size 432x288 with 1 Axes>"
      ]
     },
     "metadata": {
      "needs_background": "light"
     },
     "output_type": "display_data"
    }
   ],
   "source": [
    "print(a,len(a))\n",
    "a = a [:5]#20]\n",
    "a1 = np.array([1e-5 + i* 1e-7 for i in range(2000)])\n",
    "\n",
    "plt.plot(a1,H(a1)) \n",
    "\n",
    "#print(H(a))\n",
    "plt.show()"
   ]
  },
  {
   "cell_type": "markdown",
   "metadata": {},
   "source": [
    "Note to self. Der er et problem med H(a) der hopper alt for aggressivt fra a0 til a1 uanset om a0 er 1e-14 eller 1e-5"
   ]
  },
  {
   "cell_type": "markdown",
   "metadata": {},
   "source": [
    "$R_{\\nu}$ udregning\n",
    "$R_{\\nu} = \\frac{\\rho_{\\nu}}{\\rho_{\\gamma}+\\rho_{\\nu}} = \\left(\\frac{\\rho_{\\gamma}+\\rho_{\\nu}}{\\rho_{\\nu}}\\right)^{-1}=\\left(\\frac{\\rho_{\\gamma}}{\\rho_{\\nu}}+1\\right)^{-1}$\n",
    "Som relation mellem neutrinoer og fotoner har vi\n",
    "$\\rho_{\\nu}/\\rho_{\\gamma} = (7N_{\\nu}/8)(4/11)^{4/3}\\rightarrow\\rho_{\\gamma}/\\rho_{\\nu} = (8/7N_{\\nu})(11/4)^{4/3}$\n",
    "Det giver os\n",
    "$R_{\\nu} = \\left(\\frac{\\rho_{\\gamma}}{\\rho_{\\nu}}+1\\right)^{-1}=\\left((8/7N_{\\nu})(11/4)^{4/3}+1\\right)^{-1}$ hvor neutrino flavour antallet er sat til 3\n"
   ]
  },
  {
   "cell_type": "code",
   "execution_count": 279,
   "metadata": {},
   "outputs": [
    {
     "name": "stdout",
     "output_type": "stream",
     "text": [
      "0.40522991552738685\n",
      "402\n",
      "delta_nu_k[i]=-1.5924479257031364e-17\n",
      "delta_nu_k[i]=-1.5924479257029482e-12\n",
      "delta_nu_k[i]=-1.5918667597554973e-07\n",
      "delta_nu_k[i]=-0.015206962533509318\n",
      "delta_nu_k[i]=121877.70731907879\n",
      "success\n"
     ]
    }
   ],
   "source": [
    "# nu skal jeg bare have nogle start værdier\n",
    "C = 0.01\n",
    "N_nu = 3\n",
    "R_nu = ((8/(7*N_nu))*(11/4)**(4/3) + 1 )**(-1)\n",
    "print(R_nu)\n",
    "cs = 0#1e-20\n",
    "\n",
    "def f(t,y):    \n",
    "    a = y[0]\n",
    "    delta_cb = y[1]\n",
    "    theta_cb = y[2]\n",
    "    delta_ny = y[3]\n",
    "    theta_ny = y[4]\n",
    "    k = y[5]\n",
    "    if t == tau[0]:\n",
    "        assert(k/ H(a) <1)\n",
    "    \n",
    "    d_a_dtau = a**2 * H(a)\n",
    "    nabla2phi =(3/2) * H(a) ** 2  * Omega_M * a**2  *  (delta_ny + delta_cb)\n",
    "    d_delta_cb_dtau = - theta_cb    \n",
    "    d_theta_cb_dtau = - a * H(a) * theta_cb -  nabla2phi    \n",
    "    d_delta_ny_dtau = - theta_ny    \n",
    "    d_theta_ny_dtau = - a * H(a) * theta_ny - nabla2phi #- k*k * (cs*cs ) * delta_ny     \n",
    "    return [d_a_dtau,d_delta_cb_dtau,d_theta_cb_dtau,d_delta_ny_dtau,d_theta_ny_dtau,0]\n",
    "\n",
    "\n",
    "\n",
    "# k skal logaritmisk gå fra 1e-5 til 10\n",
    "n=1\n",
    "k_list = np.array([10**(i/n) for i in range(-10*n,2)])\n",
    "print(len(k_list))\n",
    "# liste fra 1-e5 til 1\n",
    "#k_List = np.linspace(0.00001,0.2,1000)\n",
    "\n",
    "delta_nu_k = np.zeros(len(k_list))\n",
    "\n",
    "\n",
    "t_start = tau[0]\n",
    "t_end = tau[-1]\n",
    "t_span = np.array([t_start,t_end])\n",
    "i = 0\n",
    "\n",
    "for k in k_list:\n",
    "    #print(f\"{k=}\")\n",
    "    # Først udregner vi startbetingelserne\n",
    "    delta_gamma = -2 / 3 * C * (k * tau[0])**2\n",
    "    delta_nu_0 = delta_gamma\n",
    "    delta_cb_0 = 4 / 3 * delta_gamma # *2 # muligvis spørgsmålet her er om delta_cb = delta_c + delta_b\n",
    "    theta_cb_0 = -1/18 * (k**4 * tau[0] ** 3)\n",
    "    theta_nu_0 = (23+4*R_nu)/(6*(15+4*R_nu)) * C * (k*tau[0])**2\n",
    "    #print(f\"{delta_nu_0=}\")\n",
    "    y0 = np.array([a0,delta_cb_0,theta_cb_0,delta_nu_0,theta_nu_0,k])\n",
    "    \n",
    "    sol2 = sc.solve_ivp(f,t_span,y0,t_eval = tau)\n",
    "    a        = sol2.y[0]\n",
    "    delta_cb = sol2.y[1]\n",
    "    theta_cb = sol2.y[2]\n",
    "    delta_nu = sol2.y[3]\n",
    "    theta_ny = sol2.y[4]\n",
    "    \n",
    "    delta_nu_k[i] = delta_nu[-1]\n",
    "    if i%100==0:\n",
    "        print(f\"{delta_nu_k[i]=}\")\n",
    "    i += 1\n",
    "\n",
    "print(\"success\")\n",
    "\n",
    "\n",
    "#plt.show()"
   ]
  },
  {
   "cell_type": "code",
   "execution_count": 266,
   "metadata": {},
   "outputs": [
    {
     "name": "stdout",
     "output_type": "stream",
     "text": [
      "1e-10 -1.5924479257031364e-17 2.5358903960762218e-34\n",
      "1.584893192461111e-10 -4.000048337459273e-17 1.6000386702010697e-33\n",
      "2.511886431509582e-10 -1.004766714424644e-16 1.0095561504156941e-32\n",
      "3.9810717055349694e-10 -2.523859876795716e-16 6.369868677699287e-32\n",
      "6.309573444801942e-10 -6.339649379554634e-16 4.019115425568745e-31\n",
      "1e-09 -1.5924479257031378e-15 2.535890396076226e-30\n",
      "1.584893192461111e-09 -4.0000483374592694e-15 1.6000386702010665e-29\n",
      "2.511886431509582e-09 -1.004766714424644e-14 1.0095561504156942e-28\n",
      "3.981071705534969e-09 -2.5238598767957178e-14 6.369868677699296e-28\n",
      "6.309573444801943e-09 -6.33964937955462e-14 4.0191154255687274e-27\n",
      "1e-08 -1.5924479257031219e-13 2.5358903960761756e-26\n",
      "1.5848931924611143e-08 -4.000048337459193e-13 1.6000386702010052e-25\n",
      "2.511886431509582e-08 -1.004766714424577e-12 1.0095561504155593e-24\n",
      "3.981071705534969e-08 -2.523859876795153e-12 6.369868677696444e-24\n",
      "6.30957344480193e-08 -6.33964937954883e-12 4.0191154255613863e-23\n",
      "1e-07 -1.592447925695937e-11 2.535890396053292e-22\n",
      "1.584893192461114e-07 -4.0000483373576186e-11 1.600038670119745e-21\n",
      "2.5118864315095823e-07 -1.0047667142713675e-10 1.00955615010768e-20\n",
      "3.981071705534969e-07 -2.523859874415977e-10 6.369868665687031e-20\n",
      "6.30957344480193e-07 -6.339649342150728e-10 4.019115378143216e-19\n",
      "1e-06 -1.592447866619255e-09 2.5358902079002163e-18\n",
      "1.584893192461114e-06 -4.000047402292002e-09 1.6000379220582993e-17\n",
      "2.5118864315095823e-06 -1.0047652331444412e-08 1.0095531737358034e-16\n",
      "3.981071705534969e-06 -2.5238364122143975e-08 6.369750235619242e-16\n",
      "6.30957344480193e-06 -6.339278237324444e-08 4.018644857021531e-15\n",
      "1e-05 -1.5918667597554973e-07 2.534039780814466e-14\n",
      "1.584893192461114e-05 -3.9914758336828065e-07 1.5931879330873856e-13\n",
      "2.5118864315095822e-05 -9.951322829322839e-07 9.90288260534019e-13\n",
      "3.9810717055349695e-05 -2.464408254936756e-06 6.073308047000426e-12\n",
      "6.309573444801929e-05 -6.118640020276977e-06 3.743775569773505e-11\n",
      "0.0001 -1.5274302196491894e-05 2.333043075897571e-10\n",
      "0.00015848931924611142 -3.8265466718268674e-05 1.4642459431669277e-09\n",
      "0.00025118864315095795 -9.601636778539904e-05 9.219142882701015e-09\n",
      "0.00039810717055349735 -0.00024094555616141787 5.805476103393497e-08\n",
      "0.000630957344480193 -0.0006056891185599928 3.6685930834198105e-07\n",
      "0.001 -0.001521729098811322 2.3156594501691184e-06\n",
      "0.001584893192461114 -0.003821915749576627 1.4607039996861869e-05\n",
      "0.0025118864315095794 -0.009596572476511495 9.209420329693796e-05\n",
      "0.003981071705534973 -0.0240932769872538 0.0005804859959845335\n",
      "0.00630957344480193 -0.06039780658462325 0.00364789504023356\n",
      "0.01 -0.1509509946042848 0.022786202772022816\n",
      "0.015848931924611134 -0.37458679134152595 0.1403152642475399\n",
      "0.025118864315095794 -0.9111154561022848 0.8301313743484745\n",
      "0.039810717055349734 -2.102728431004606 4.421466854555093\n",
      "0.06309573444801933 -4.104660856269926 16.848240744994563\n",
      "0.1 -2.882904785391871 8.31114000163535\n",
      "0.15848931924611134 39.619230316018516 1569.6834108337207\n",
      "0.251188643150958 395.18116059383834 156168.14968829305\n",
      "0.3981071705534972 2858.462965778421 8170810.526726767\n",
      "0.6309573444801932 18949.951334759244 359100655.5897437\n",
      "1.0 121877.70731907879 14854175541.355032\n",
      "1.5848931924611136 774764.948685688 600260725711.9368\n"
     ]
    },
    {
     "data": {
      "text/plain": [
       "Text(0.5, 1.0, 'power spectrum af neutrinoer alpha version')"
      ]
     },
     "execution_count": 266,
     "metadata": {},
     "output_type": "execute_result"
    },
    {
     "data": {
      "image/png": "[encoded data removed]",
      "text/plain": [
       "<Figure size 432x288 with 1 Axes>"
      ]
     },
     "metadata": {
      "needs_background": "light"
     },
     "output_type": "display_data"
    }
   ],
   "source": [
    "delta2 = np.power(np.abs(delta_nu_k),2)\n",
    "for i in range(len(delta_nu_k)):\n",
    "    print(k_list[i],delta_nu_k[i],delta2[i])\n",
    "plt.plot(k_list,delta2)#,s=0.5)\n",
    "plt.xlabel(\"k\")\n",
    "plt.ylabel(r'$|\\delta(k)^2|$',rotation=0)\n",
    "plt.title(\"power spectrum af neutrinoer alpha version\")"
   ]
  },
  {
   "cell_type": "code",
   "execution_count": 235,
   "metadata": {},
   "outputs": [
    {
     "data": {
      "image/png": "[encoded data removed]",
      "text/plain": [
       "<Figure size 432x288 with 1 Axes>"
      ]
     },
     "metadata": {
      "needs_background": "light"
     },
     "output_type": "display_data"
    },
    {
     "data": {
      "image/png": "[encoded data removed]",
      "text/plain": [
       "<Figure size 432x288 with 1 Axes>"
      ]
     },
     "metadata": {
      "needs_background": "light"
     },
     "output_type": "display_data"
    }
   ],
   "source": [
    "N = 10000\n",
    "fig, axes = plt.subplots(nrows=1, ncols=1)\n",
    "axes.plot(tau,delta_cb,label=r'$\\delta_{cb}$',color=\"red\")\n",
    "axes.plot(tau,delta_ny,label=r'$\\delta_{\\nu}$',color=\"green\")\n",
    "axes.set(xlabel=r'$\\tau$')\n",
    "plt.legend()\n",
    "\n",
    "N = 10000\n",
    "fig1, axes1 = plt.subplots(nrows=1, ncols=1)\n",
    "axes1.plot(tau,theta_cb,label=r'$\\theta_{cb}$',color=\"red\")\n",
    "axes1.plot(tau,theta_ny,label=r'$\\theta_{\\nu}$',color=\"green\")\n",
    "axes1.set(xlabel=r'$\\tau$')\n",
    "plt.legend()\n",
    "plt.show()"
   ]
  },
  {
   "cell_type": "markdown",
   "metadata": {},
   "source": [
    "Et forsøg på at normalisere a så vi undgår det der enorme spike for Friedman ligningen."
   ]
  },
  {
   "cell_type": "code",
   "execution_count": 246,
   "metadata": {},
   "outputs": [
    {
     "name": "stdout",
     "output_type": "stream",
     "text": [
      "tau=array([677630.92717894, 682448.18405229, 682448.18389962, ...,\n",
      "       682448.18715728, 682448.18715728, 682448.18715728])\n"
     ]
    }
   ],
   "source": [
    "H0 = 70 / (3 * 1e5) # i 1/Mpc\n",
    "num = 1e5 # numalisering\n",
    "a0 = 1 #1e-5 * num\n",
    "aend = 1e5 * num\n",
    "steps = int(1e4)\n",
    "Omega_lambda = 0.74 - 2 * 1e-5\n",
    "Omega_M = 0.26- 2 * 1e-5\n",
    "Omega_R = 4 * 1e-5\n",
    "a = np.linspace(a0,aend,steps)\n",
    "\n",
    "# udregning af Friedmanligningen\n",
    "def H(a):\n",
    "    return H0 * np.sqrt(Omega_lambda + Omega_M /( a **3) + Omega_R /( a**4)) # a**3 *\n",
    "\n",
    "def f(t,y):\n",
    "    a_current = t\n",
    "    tau = y[0]\n",
    "    d_tau = 1 / (a_current**2 * H(a_current))\n",
    "    return [d_tau]\n",
    "\n",
    "tau0 = 1/H0 * Omega_R ** (-0.5) * a0 \n",
    "sol1 = sc.solve_ivp(f,t_span=[a0,aend],y0=[tau0],t_eval=a)\n",
    "tau =sol1.y[0]\n",
    "print(f\"{tau=}\")\n"
   ]
  },
  {
   "cell_type": "code",
   "execution_count": null,
   "metadata": {},
   "outputs": [],
   "source": []
  }
 ],
 "metadata": {
  "kernelspec": {
   "display_name": "Python 3",
   "language": "python",
   "name": "python3"
  },
  "language_info": {
   "codemirror_mode": {
    "name": "ipython",
    "version": 3
   },
   "file_extension": ".py",
   "mimetype": "text/x-python",
   "name": "python",
   "nbconvert_exporter": "python",
   "pygments_lexer": "ipython3",
   "version": "3.8.5"
  }
 },
 "nbformat": 4,
 "nbformat_minor": 4
}
